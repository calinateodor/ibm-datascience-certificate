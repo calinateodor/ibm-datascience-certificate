{
    "nbformat_minor": 1, 
    "cells": [
        {
            "source": "### Capstone Project - IBM Data Science Professional Certificate\n## Project: Battle of the Neighborhoods  \n\nIn this project location data provided by Squarespace will be used to cluster and assess the quality of various neighborhoods in Toronto, Canada", 
            "cell_type": "markdown", 
            "metadata": {
                "collapsed": true
            }
        }, 
        {
            "execution_count": 2, 
            "cell_type": "code", 
            "metadata": {}, 
            "outputs": [], 
            "source": "import pandas as pd\nimport numpy as np"
        }, 
        {
            "execution_count": 3, 
            "cell_type": "code", 
            "metadata": {}, 
            "outputs": [
                {
                    "output_type": "stream", 
                    "name": "stdout", 
                    "text": "Hello Capstone Project Course!\n"
                }
            ], 
            "source": "print('Hello Capstone Project Course!')"
        }, 
        {
            "source": "### Introduction  \n\nAlthough cities around the world are very different in size, economy, population, and culture, there are also similarities that unite them. By looking at neighborhoods in two of the largest cities in the world, and the largest in their respective country, this project tries to identify if and how similar these cities are. The two cities of choice are **Berlin, Germany**, and **New York, USA**.\n\nFirst, I will look at the similarities between neighborhoods in each city separately in order to determine how homogenous the neighborhoods in each city are. We will look at the venues present in these two cities as a reflection of the citizens and their preference for free time activities. Venues were chosen for this under the assumption that, in a free market, competition shapes the local business to reflect the preferences of the population as a whole, but also of subdivisions of the population. Hence the similar the taste of the population, the similar the venues will be and vice versa, as venues that do not satisfy any public need will run out of business.\n\nIn the second step we will compare the neighborhoods of both cities and try to establish how similar they are in terms of population preference, using venues as a proxy to measure it. Furthermore, in the case of high heterogenity amongst neighborhoods between cities, we will try to map them together. That is to look if a particular neighborhood has a corespondece in the other city.\n\nInsights drawn from this project can be useful for the public administration of both cities. By knowing the degree of homogenity the public administration can deliver cutomized solutions to the neightborhood problems, while comparing the two cities, allows public administration to know if partnering and sharing solutions with one another is beneficial.\n\nIn conclusion, the goal of this project is to answer three closely linked questions: are New York and Toronto homogenous, similar to each other, and do neighborhoods in one city have a corespondent in the other. \n", 
            "cell_type": "markdown", 
            "metadata": {}
        }, 
        {
            "source": "### Data\n\nIn order to achieve the goal proposed in the previous section we will require accurate venue location for the two cities.  \n\nVenue location will be provided by Foursquare via API calls. The Foursquare data is delivered in JSON format and contains various venue information. Important for the project are category tags (such as venue type, e.g. restaurant, park, cafe, etc., as well as the detailed categories like pizza, asian restaurant, fast food, etc.), and latititude and longitude.\n\nSecondly we will require a list with the neighborhood names and location (latitude and longitude). For New York city the list is available under https://geo.nyu.edu/catalog/nyu_2451_34572. For Berlin, the data is available under https://public.opendatasoft.com and can be retrieved in JSON format via API call.", 
            "cell_type": "markdown", 
            "metadata": {}
        }, 
        {
            "execution_count": null, 
            "cell_type": "code", 
            "metadata": {}, 
            "outputs": [], 
            "source": ""
        }
    ], 
    "metadata": {
        "kernelspec": {
            "display_name": "Python 3.5", 
            "name": "python3", 
            "language": "python"
        }, 
        "language_info": {
            "mimetype": "text/x-python", 
            "nbconvert_exporter": "python", 
            "version": "3.5.5", 
            "name": "python", 
            "file_extension": ".py", 
            "pygments_lexer": "ipython3", 
            "codemirror_mode": {
                "version": 3, 
                "name": "ipython"
            }
        }
    }, 
    "nbformat": 4
}
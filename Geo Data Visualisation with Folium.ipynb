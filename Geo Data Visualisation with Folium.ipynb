{
    "nbformat_minor": 2, 
    "cells": [
        {
            "execution_count": 11, 
            "cell_type": "code", 
            "metadata": {}, 
            "outputs": [], 
            "source": "import numpy as np  # useful for many scientific computing in Python\nimport pandas as pd # primary data structure library"
        }, 
        {
            "execution_count": 5, 
            "cell_type": "code", 
            "metadata": {}, 
            "outputs": [
                {
                    "execution_count": 5, 
                    "metadata": {}, 
                    "data": {
                        "text/html": "<div>\n<style scoped>\n    .dataframe tbody tr th:only-of-type {\n        vertical-align: middle;\n    }\n\n    .dataframe tbody tr th {\n        vertical-align: top;\n    }\n\n    .dataframe thead th {\n        text-align: right;\n    }\n</style>\n<table border=\"1\" class=\"dataframe\">\n  <thead>\n    <tr style=\"text-align: right;\">\n      <th></th>\n      <th>IncidntNum</th>\n      <th>Category</th>\n      <th>Descript</th>\n      <th>DayOfWeek</th>\n      <th>Date</th>\n      <th>Time</th>\n      <th>PdDistrict</th>\n      <th>Resolution</th>\n      <th>Address</th>\n      <th>X</th>\n      <th>Y</th>\n      <th>Location</th>\n      <th>PdId</th>\n    </tr>\n  </thead>\n  <tbody>\n    <tr>\n      <th>0</th>\n      <td>120058272</td>\n      <td>WEAPON LAWS</td>\n      <td>POSS OF PROHIBITED WEAPON</td>\n      <td>Friday</td>\n      <td>01/29/2016 12:00:00 AM</td>\n      <td>11:00</td>\n      <td>SOUTHERN</td>\n      <td>ARREST, BOOKED</td>\n      <td>800 Block of BRYANT ST</td>\n      <td>-122.403405</td>\n      <td>37.775421</td>\n      <td>(37.775420706711, -122.403404791479)</td>\n      <td>12005827212120</td>\n    </tr>\n    <tr>\n      <th>1</th>\n      <td>120058272</td>\n      <td>WEAPON LAWS</td>\n      <td>FIREARM, LOADED, IN VEHICLE, POSSESSION OR USE</td>\n      <td>Friday</td>\n      <td>01/29/2016 12:00:00 AM</td>\n      <td>11:00</td>\n      <td>SOUTHERN</td>\n      <td>ARREST, BOOKED</td>\n      <td>800 Block of BRYANT ST</td>\n      <td>-122.403405</td>\n      <td>37.775421</td>\n      <td>(37.775420706711, -122.403404791479)</td>\n      <td>12005827212168</td>\n    </tr>\n    <tr>\n      <th>2</th>\n      <td>141059263</td>\n      <td>WARRANTS</td>\n      <td>WARRANT ARREST</td>\n      <td>Monday</td>\n      <td>04/25/2016 12:00:00 AM</td>\n      <td>14:59</td>\n      <td>BAYVIEW</td>\n      <td>ARREST, BOOKED</td>\n      <td>KEITH ST / SHAFTER AV</td>\n      <td>-122.388856</td>\n      <td>37.729981</td>\n      <td>(37.7299809672996, -122.388856204292)</td>\n      <td>14105926363010</td>\n    </tr>\n    <tr>\n      <th>3</th>\n      <td>160013662</td>\n      <td>NON-CRIMINAL</td>\n      <td>LOST PROPERTY</td>\n      <td>Tuesday</td>\n      <td>01/05/2016 12:00:00 AM</td>\n      <td>23:50</td>\n      <td>TENDERLOIN</td>\n      <td>NONE</td>\n      <td>JONES ST / OFARRELL ST</td>\n      <td>-122.412971</td>\n      <td>37.785788</td>\n      <td>(37.7857883766888, -122.412970537591)</td>\n      <td>16001366271000</td>\n    </tr>\n    <tr>\n      <th>4</th>\n      <td>160002740</td>\n      <td>NON-CRIMINAL</td>\n      <td>LOST PROPERTY</td>\n      <td>Friday</td>\n      <td>01/01/2016 12:00:00 AM</td>\n      <td>00:30</td>\n      <td>MISSION</td>\n      <td>NONE</td>\n      <td>16TH ST / MISSION ST</td>\n      <td>-122.419672</td>\n      <td>37.765050</td>\n      <td>(37.7650501214668, -122.419671780296)</td>\n      <td>16000274071000</td>\n    </tr>\n  </tbody>\n</table>\n</div>", 
                        "text/plain": "   IncidntNum      Category                                        Descript  \\\n0   120058272   WEAPON LAWS                       POSS OF PROHIBITED WEAPON   \n1   120058272   WEAPON LAWS  FIREARM, LOADED, IN VEHICLE, POSSESSION OR USE   \n2   141059263      WARRANTS                                  WARRANT ARREST   \n3   160013662  NON-CRIMINAL                                   LOST PROPERTY   \n4   160002740  NON-CRIMINAL                                   LOST PROPERTY   \n\n  DayOfWeek                    Date   Time  PdDistrict      Resolution  \\\n0    Friday  01/29/2016 12:00:00 AM  11:00    SOUTHERN  ARREST, BOOKED   \n1    Friday  01/29/2016 12:00:00 AM  11:00    SOUTHERN  ARREST, BOOKED   \n2    Monday  04/25/2016 12:00:00 AM  14:59     BAYVIEW  ARREST, BOOKED   \n3   Tuesday  01/05/2016 12:00:00 AM  23:50  TENDERLOIN            NONE   \n4    Friday  01/01/2016 12:00:00 AM  00:30     MISSION            NONE   \n\n                  Address           X          Y  \\\n0  800 Block of BRYANT ST -122.403405  37.775421   \n1  800 Block of BRYANT ST -122.403405  37.775421   \n2   KEITH ST / SHAFTER AV -122.388856  37.729981   \n3  JONES ST / OFARRELL ST -122.412971  37.785788   \n4    16TH ST / MISSION ST -122.419672  37.765050   \n\n                                Location            PdId  \n0   (37.775420706711, -122.403404791479)  12005827212120  \n1   (37.775420706711, -122.403404791479)  12005827212168  \n2  (37.7299809672996, -122.388856204292)  14105926363010  \n3  (37.7857883766888, -122.412970537591)  16001366271000  \n4  (37.7650501214668, -122.419671780296)  16000274071000  "
                    }, 
                    "output_type": "execute_result"
                }
            ], 
            "source": "# Get Dataset\ncrime_df = pd.read_csv('https://cocl.us/sanfran_crime_dataset')\ncrime_df.head()"
        }, 
        {
            "execution_count": 6, 
            "cell_type": "code", 
            "metadata": {}, 
            "outputs": [], 
            "source": "crime_df.rename({'PdDistrict': 'Neighborhood'}\n               , axis='columns', inplace = True\n               )"
        }, 
        {
            "execution_count": 8, 
            "cell_type": "code", 
            "metadata": {}, 
            "outputs": [
                {
                    "execution_count": 8, 
                    "metadata": {}, 
                    "data": {
                        "text/html": "<div>\n<style scoped>\n    .dataframe tbody tr th:only-of-type {\n        vertical-align: middle;\n    }\n\n    .dataframe tbody tr th {\n        vertical-align: top;\n    }\n\n    .dataframe thead th {\n        text-align: right;\n    }\n</style>\n<table border=\"1\" class=\"dataframe\">\n  <thead>\n    <tr style=\"text-align: right;\">\n      <th></th>\n      <th>Neighborhood</th>\n      <th>NrCrimes</th>\n    </tr>\n  </thead>\n  <tbody>\n    <tr>\n      <th>0</th>\n      <td>SOUTHERN</td>\n      <td>28445</td>\n    </tr>\n    <tr>\n      <th>1</th>\n      <td>NORTHERN</td>\n      <td>20100</td>\n    </tr>\n    <tr>\n      <th>2</th>\n      <td>MISSION</td>\n      <td>19503</td>\n    </tr>\n    <tr>\n      <th>3</th>\n      <td>CENTRAL</td>\n      <td>17666</td>\n    </tr>\n    <tr>\n      <th>4</th>\n      <td>BAYVIEW</td>\n      <td>14303</td>\n    </tr>\n  </tbody>\n</table>\n</div>", 
                        "text/plain": "  Neighborhood  NrCrimes\n0     SOUTHERN     28445\n1     NORTHERN     20100\n2      MISSION     19503\n3      CENTRAL     17666\n4      BAYVIEW     14303"
                    }, 
                    "output_type": "execute_result"
                }
            ], 
            "source": "# Count number of crimes per neighborhood\ncrime_nr = crime_df['Neighborhood'].value_counts().to_frame('NrCrimes')\ncrime_nr.index.name = 'Neighborhood'\ncrime_nr.reset_index(inplace=True)\ncrime_nr.head()"
        }, 
        {
            "execution_count": 10, 
            "cell_type": "code", 
            "metadata": {}, 
            "outputs": [
                {
                    "output_type": "stream", 
                    "name": "stdout", 
                    "text": "Fetching package metadata .............\nSolving package specifications: ^C\n\nTraceback (most recent call last):\n  File \"/opt/conda/envs/DSX-Python35/bin/conda\", line 11, in <module>\n    sys.exit(main())\n  File \"/opt/conda/lib/python3.6/site-packages/conda/cli/main.py\", line 182, in main\n    return conda_exception_handler(_main, *args)\n  File \"/opt/conda/lib/python3.6/site-packages/conda/exceptions.py\", line 640, in conda_exception_handler\n    return_value = func(*args, **kwargs)\n  File \"/opt/conda/lib/python3.6/site-packages/conda/cli/main.py\", line 140, in _main\n    exit_code = args.func(args, p)\n  File \"/opt/conda/lib/python3.6/site-packages/conda/cli/main_install.py\", line 80, in execute\n    install(args, parser, 'install')\n  File \"/opt/conda/lib/python3.6/site-packages/conda/cli/install.py\", line 261, in install\n    channel_priority_map=_channel_priority_map, is_update=isupdate)\n  File \"/opt/conda/lib/python3.6/site-packages/conda/common/io.py\", line 174, in decorated\n    return f(*args, **kwds)\n  File \"/opt/conda/lib/python3.6/site-packages/conda/plan.py\", line 492, in install_actions_list\n    for specs_by_prefix in required_solves]\n  File \"/opt/conda/lib/python3.6/site-packages/conda/plan.py\", line 492, in <listcomp>\n    for specs_by_prefix in required_solves]\n  File \"/opt/conda/lib/python3.6/site-packages/conda/plan.py\", line 634, in get_actions_for_dists\n    pkgs = r.install(specs, installed, update_deps=update_deps)\n  File \"/opt/conda/lib/python3.6/site-packages/conda/resolve.py\", line 859, in install\n    pkgs = self.solve(specs, returnall=returnall)\n  File \"/opt/conda/lib/python3.6/site-packages/conda/common/io.py\", line 174, in decorated\n    return f(*args, **kwds)\n  File \"/opt/conda/lib/python3.6/site-packages/conda/resolve.py\", line 900, in solve\n    reduced_index = self.get_reduced_index(specs)\n  File \"/opt/conda/lib/python3.6/site-packages/conda/resolve.py\", line 439, in get_reduced_index\n    found = filter_group([s])\n  File \"/opt/conda/lib/python3.6/site-packages/conda/resolve.py\", line 393, in filter_group\n    for ms in self.ms_depends(fkey)))\n  File \"/opt/conda/lib/python3.6/site-packages/conda/resolve.py\", line 393, in <genexpr>\n    for ms in self.ms_depends(fkey)))\n  File \"/opt/conda/lib/python3.6/site-packages/conda/resolve.py\", line 489, in find_matches\n    res = [p for p in res if self.match_fast(ms, p)]\n  File \"/opt/conda/lib/python3.6/site-packages/conda/resolve.py\", line 489, in <listcomp>\n    res = [p for p in res if self.match_fast(ms, p)]\n  File \"/opt/conda/lib/python3.6/site-packages/conda/resolve.py\", line 478, in match_fast\n    return ms.match_fast(rec['version'], rec['build'])\n  File \"/opt/conda/lib/python3.6/site-packages/conda/resolve.py\", line 95, in _match_version\n    return self.version.match(version)\n  File \"/opt/conda/lib/python3.6/site-packages/conda/version.py\", line 309, in veval_match_\n    return self.op(VersionOrder(vspec), self.cmp)\n  File \"/opt/conda/lib/python3.6/site-packages/conda/version.py\", line 243, in startswith\n    if not self._eq(t1[:nt], t2[:nt]):\nKeyboardInterrupt\n"
                }, 
                {
                    "ename": "ImportError", 
                    "evalue": "No module named 'folium'", 
                    "traceback": [
                        "\u001b[0;31m---------------------------------------------------------------------------\u001b[0m", 
                        "\u001b[0;31mImportError\u001b[0m                               Traceback (most recent call last)", 
                        "\u001b[0;32m<ipython-input-10-140d77b3c761>\u001b[0m in \u001b[0;36m<module>\u001b[0;34m()\u001b[0m\n\u001b[1;32m      1\u001b[0m \u001b[0mget_ipython\u001b[0m\u001b[0;34m(\u001b[0m\u001b[0;34m)\u001b[0m\u001b[0;34m.\u001b[0m\u001b[0msystem\u001b[0m\u001b[0;34m(\u001b[0m\u001b[0;34m'conda install -c conda-forge folium=0.5.0 --yes'\u001b[0m\u001b[0;34m)\u001b[0m\u001b[0;34m\u001b[0m\u001b[0m\n\u001b[0;32m----> 2\u001b[0;31m \u001b[0;32mimport\u001b[0m \u001b[0mfolium\u001b[0m\u001b[0;34m\u001b[0m\u001b[0m\n\u001b[0m\u001b[1;32m      3\u001b[0m \u001b[0;34m\u001b[0m\u001b[0m\n\u001b[1;32m      4\u001b[0m \u001b[0mprint\u001b[0m\u001b[0;34m(\u001b[0m\u001b[0;34m'Folium installed and imported!'\u001b[0m\u001b[0;34m)\u001b[0m\u001b[0;34m\u001b[0m\u001b[0m\n", 
                        "\u001b[0;31mImportError\u001b[0m: No module named 'folium'"
                    ], 
                    "output_type": "error"
                }
            ], 
            "source": "!conda install -c conda-forge folium=0.5.0 --yes\nimport folium\n\nprint('Folium installed and imported!')"
        }, 
        {
            "execution_count": null, 
            "cell_type": "code", 
            "metadata": {}, 
            "outputs": [], 
            "source": "# download countries geojson file\n!wget --quiet https://https://cocl.us/sanfran_geojson -O san_fran.json\n    \nprint('GeoJSON file downloaded!')"
        }, 
        {
            "execution_count": null, 
            "cell_type": "code", 
            "metadata": {}, 
            "outputs": [], 
            "source": "san_fran_geo = r'san-francisco.geojson' # geojson file\nsan_fran_geo\nlatitude = 37.77\nlongitude = -122.42\n# create a plain world map\nsan_fran_map = folium.Map(location=[latitude, longitude], zoom_start=12)\n\n# generate choropleth map using the total immigration of each country to Canada from 1980 to 2013\nsan_fran_map.choropleth(\n    geo_data=san_fran_geo,\n    data=crime_nr,\n    columns=['Neighborhood', 'NrCrimes'],\n    key_on='feature.properties.DISTRICT',\n    fill_color='YlOrRd', \n    fill_opacity=0.7, \n    line_opacity=0.2,\n    legend_name='Crimes in San Franscisco',\n    reset=True\n)\n\n# display map\nsan_fran_map"
        }, 
        {
            "execution_count": null, 
            "cell_type": "code", 
            "metadata": {}, 
            "outputs": [], 
            "source": ""
        }
    ], 
    "metadata": {
        "kernelspec": {
            "display_name": "Python 3.5", 
            "name": "python3", 
            "language": "python"
        }, 
        "language_info": {
            "mimetype": "text/x-python", 
            "nbconvert_exporter": "python", 
            "version": "3.5.5", 
            "name": "python", 
            "file_extension": ".py", 
            "pygments_lexer": "ipython3", 
            "codemirror_mode": {
                "version": 3, 
                "name": "ipython"
            }
        }
    }, 
    "nbformat": 4
}